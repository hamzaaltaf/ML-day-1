{
 "cells": [
  {
   "cell_type": "code",
   "execution_count": 103,
   "metadata": {},
   "outputs": [],
   "source": [
    "import urllib.request as urllib\n",
    "import sklearn as sk\n",
    "import pandas as pd\n",
    "import numpy as np\n",
    "import matplotlib.pyplot as plt\n",
    "from sklearn.neighbors import KNeighborsClassifier\n",
    "from sklearn.preprocessing import LabelEncoder\n",
    "from sklearn.metrics import classification_report"
   ]
  },
  {
   "cell_type": "code",
   "execution_count": 154,
   "metadata": {},
   "outputs": [
    {
     "name": "stdout",
     "output_type": "stream",
     "text": [
      "              precision    recall  f1-score   support\n",
      "\n",
      "           0       1.00      1.00      1.00        10\n",
      "           1       1.00      0.89      0.94         9\n",
      "           2       0.92      1.00      0.96        11\n",
      "\n",
      "    accuracy                           0.97        30\n",
      "   macro avg       0.97      0.96      0.97        30\n",
      "weighted avg       0.97      0.97      0.97        30\n",
      "\n"
     ]
    }
   ],
   "source": [
    "# Import the IRIS dataset into csv\n",
    "df = pd.read_csv('iris.csv')\n",
    "df = df.rename(columns={'sepal.width': 'swidth', 'sepal.length': 'slength', 'petal.length': 'plength', 'petal.width': 'pwidth'})\n",
    "# data sampling for test data set\n",
    "test_data = df.sample(30, random_state = 42)\n",
    "training_data = df.copy()\n",
    "# to get training data, we are deleting items that we have in the testing data\n",
    "training_data = training_data.drop(test_data.index)\n",
    "# get validation data\n",
    "validation_data = training_data.sample(30, random_state = 42)\n",
    "# to get training data, we are deleting items that we have in the testing data\n",
    "training_data = training_data.drop(validation_data.index)\n",
    "target_dataset = training_data['variety']\n",
    "label_encoder = LabelEncoder()\n",
    "target_dataset = label_encoder.fit_transform(target_dataset)\n",
    "training_data = training_data[['swidth', 'slength', 'plength', 'pwidth']]\n",
    "# running classification algos on our dataset\n",
    "knn = KNeighborsClassifier()\n",
    "knn.fit(training_data, target_dataset)\n",
    "test_data_features = test_data[['swidth', 'slength', 'plength', 'pwidth']]\n",
    "# Encode the target labels in the test data using the same LabelEncoder\n",
    "test_data_labels = label_encoder.transform(test_data['variety'])\n",
    "predictions = knn.predict(test_data_features)\n",
    "print(classification_report(test_data_labels, predictions))"
   ]
  },
  {
   "cell_type": "code",
   "execution_count": 158,
   "metadata": {},
   "outputs": [
    {
     "name": "stdout",
     "output_type": "stream",
     "text": [
      "              precision    recall  f1-score   support\n",
      "\n",
      "           0       1.00      1.00      1.00        10\n",
      "           1       1.00      1.00      1.00         9\n",
      "           2       1.00      1.00      1.00        11\n",
      "\n",
      "    accuracy                           1.00        30\n",
      "   macro avg       1.00      1.00      1.00        30\n",
      "weighted avg       1.00      1.00      1.00        30\n",
      "\n"
     ]
    }
   ],
   "source": [
    "from sklearn.naive_bayes import GaussianNB\n",
    "\n",
    "nb = GaussianNB()\n",
    "nb.fit(training_data, target_dataset)\n",
    "predictions = nb.predict(test_data_features)\n",
    "print(classification_report(test_data_labels, predictions))\n"
   ]
  },
  {
   "cell_type": "markdown",
   "metadata": {},
   "source": [
    "the values range for slength is between 4.3 and 7.7\n",
    "the values range for swidth is between 2.0 and 4.1\n",
    "\n",
    "the values range for plength is between 1.1 and 6.7\n",
    "the values range for pwidth is between 0.1 and 2.5\n"
   ]
  }
 ],
 "metadata": {
  "kernelspec": {
   "display_name": "Python 3",
   "language": "python",
   "name": "python3"
  },
  "language_info": {
   "codemirror_mode": {
    "name": "ipython",
    "version": 3
   },
   "file_extension": ".py",
   "mimetype": "text/x-python",
   "name": "python",
   "nbconvert_exporter": "python",
   "pygments_lexer": "ipython3",
   "version": "3.9.6"
  }
 },
 "nbformat": 4,
 "nbformat_minor": 2
}
